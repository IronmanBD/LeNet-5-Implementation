{
  "nbformat": 4,
  "nbformat_minor": 0,
  "metadata": {
    "colab": {
      "name": "Linear Regression Scrtach.ipynb",
      "provenance": [],
      "collapsed_sections": [],
      "authorship_tag": "ABX9TyNVa62h8iMaBos/3N8/p8Ot"
    },
    "kernelspec": {
      "display_name": "Python 3",
      "name": "python3"
    }
  },
  "cells": [
    {
      "cell_type": "code",
      "metadata": {
        "id": "sPYB4Fs3Ga6V"
      },
      "source": [
        "import numpy as np\r\n",
        "import pandas as pd\r\n",
        "import matplotlib.pyplot as plt\r\n",
        "%matplotlib inline"
      ],
      "execution_count": 1,
      "outputs": []
    },
    {
      "cell_type": "code",
      "metadata": {
        "id": "53IdR4TpPAm1",
        "colab": {
          "base_uri": "https://localhost:8080/",
          "height": 300
        },
        "outputId": "578d2ac3-87e8-4b48-bdf8-2f33022948c9"
      },
      "source": [
        "df = pd.read_excel('data.xlsx')\r\n",
        "df.head(8)"
      ],
      "execution_count": 2,
      "outputs": [
        {
          "output_type": "execute_result",
          "data": {
            "text/html": [
              "<div>\n",
              "<style scoped>\n",
              "    .dataframe tbody tr th:only-of-type {\n",
              "        vertical-align: middle;\n",
              "    }\n",
              "\n",
              "    .dataframe tbody tr th {\n",
              "        vertical-align: top;\n",
              "    }\n",
              "\n",
              "    .dataframe thead th {\n",
              "        text-align: right;\n",
              "    }\n",
              "</style>\n",
              "<table border=\"1\" class=\"dataframe\">\n",
              "  <thead>\n",
              "    <tr style=\"text-align: right;\">\n",
              "      <th></th>\n",
              "      <th>AT</th>\n",
              "      <th>V</th>\n",
              "      <th>AP</th>\n",
              "      <th>RH</th>\n",
              "      <th>PE</th>\n",
              "    </tr>\n",
              "  </thead>\n",
              "  <tbody>\n",
              "    <tr>\n",
              "      <th>0</th>\n",
              "      <td>14.96</td>\n",
              "      <td>41.76</td>\n",
              "      <td>1024.07</td>\n",
              "      <td>73.17</td>\n",
              "      <td>463.26</td>\n",
              "    </tr>\n",
              "    <tr>\n",
              "      <th>1</th>\n",
              "      <td>25.18</td>\n",
              "      <td>62.96</td>\n",
              "      <td>1020.04</td>\n",
              "      <td>59.08</td>\n",
              "      <td>444.37</td>\n",
              "    </tr>\n",
              "    <tr>\n",
              "      <th>2</th>\n",
              "      <td>5.11</td>\n",
              "      <td>39.40</td>\n",
              "      <td>1012.16</td>\n",
              "      <td>92.14</td>\n",
              "      <td>488.56</td>\n",
              "    </tr>\n",
              "    <tr>\n",
              "      <th>3</th>\n",
              "      <td>20.86</td>\n",
              "      <td>57.32</td>\n",
              "      <td>1010.24</td>\n",
              "      <td>76.64</td>\n",
              "      <td>446.48</td>\n",
              "    </tr>\n",
              "    <tr>\n",
              "      <th>4</th>\n",
              "      <td>10.82</td>\n",
              "      <td>37.50</td>\n",
              "      <td>1009.23</td>\n",
              "      <td>96.62</td>\n",
              "      <td>473.90</td>\n",
              "    </tr>\n",
              "    <tr>\n",
              "      <th>5</th>\n",
              "      <td>26.27</td>\n",
              "      <td>59.44</td>\n",
              "      <td>1012.23</td>\n",
              "      <td>58.77</td>\n",
              "      <td>443.67</td>\n",
              "    </tr>\n",
              "    <tr>\n",
              "      <th>6</th>\n",
              "      <td>15.89</td>\n",
              "      <td>43.96</td>\n",
              "      <td>1014.02</td>\n",
              "      <td>75.24</td>\n",
              "      <td>467.35</td>\n",
              "    </tr>\n",
              "    <tr>\n",
              "      <th>7</th>\n",
              "      <td>9.48</td>\n",
              "      <td>44.71</td>\n",
              "      <td>1019.12</td>\n",
              "      <td>66.43</td>\n",
              "      <td>478.42</td>\n",
              "    </tr>\n",
              "  </tbody>\n",
              "</table>\n",
              "</div>"
            ],
            "text/plain": [
              "      AT      V       AP     RH      PE\n",
              "0  14.96  41.76  1024.07  73.17  463.26\n",
              "1  25.18  62.96  1020.04  59.08  444.37\n",
              "2   5.11  39.40  1012.16  92.14  488.56\n",
              "3  20.86  57.32  1010.24  76.64  446.48\n",
              "4  10.82  37.50  1009.23  96.62  473.90\n",
              "5  26.27  59.44  1012.23  58.77  443.67\n",
              "6  15.89  43.96  1014.02  75.24  467.35\n",
              "7   9.48  44.71  1019.12  66.43  478.42"
            ]
          },
          "metadata": {
            "tags": []
          },
          "execution_count": 2
        }
      ]
    },
    {
      "cell_type": "code",
      "metadata": {
        "id": "oCnd9cx6PYl_"
      },
      "source": [
        "X = df.iloc[:,:-1].values\r\n",
        "y = df.iloc[:,-1:].values"
      ],
      "execution_count": 32,
      "outputs": []
    },
    {
      "cell_type": "code",
      "metadata": {
        "id": "8binitqFQbor"
      },
      "source": [
        "from sklearn.preprocessing import StandardScaler\r\n",
        "sc = StandardScaler()\r\n",
        "X = sc.fit_transform(X)"
      ],
      "execution_count": 33,
      "outputs": []
    },
    {
      "cell_type": "code",
      "metadata": {
        "id": "xp70AWKPxhRY"
      },
      "source": [
        "m = 7000\r\n",
        "f = 2\r\n",
        "X_train = X[:m,:f]\r\n",
        "X_train = np.c_[np.ones(len(X_train),dtype='int64'),X_train]\r\n",
        "y_train = y[:m]\r\n",
        "X_test = X[m:,:f]\r\n",
        "X_test = np.c_[np.ones(len(X_test),dtype='int64'),X_test]\r\n",
        "y_test = y[m:]"
      ],
      "execution_count": 48,
      "outputs": []
    },
    {
      "cell_type": "code",
      "metadata": {
        "id": "jzdgS9JuzJu7"
      },
      "source": [
        "y_train=y_train.flatten()"
      ],
      "execution_count": 50,
      "outputs": []
    },
    {
      "cell_type": "code",
      "metadata": {
        "id": "i-0t-d3WRtyz"
      },
      "source": [
        "class Linear_Regression:\r\n",
        "  def __init__(self, lr=0.005, n_iters=1000):\r\n",
        "    self.lr = lr\r\n",
        "    self.n_iters = n_iters\r\n",
        "    self.w = None\r\n",
        "    self.b = None\r\n",
        "\r\n",
        "  def fit(self, X, y):\r\n",
        "    n_samples, n_features = X.shape\r\n",
        "    self.w = np.zeros(n_features)\r\n",
        "    self.b = 0\r\n",
        "\r\n",
        "    for _ in range(self.n_iters):\r\n",
        "      h = X.dot(self.w)+self.b\r\n",
        "      loss = h-y\r\n",
        "      dw = X.T.dot(loss) / n_samples\r\n",
        "      db = np.sum(loss) / n_samples\r\n",
        "      self.w -= self.lr * dw\r\n",
        "      self.b -= self.lr * db\r\n",
        "\r\n",
        "  def predict(self, X):\r\n",
        "    y_predict = X.dot(self.w)+self.b\r\n",
        "\r\n",
        "    return y_predict"
      ],
      "execution_count": 84,
      "outputs": []
    },
    {
      "cell_type": "code",
      "metadata": {
        "id": "gOB00l9LmpH6"
      },
      "source": [
        "regression = Linear_Regression()\r\n",
        "regression.fit(X_train, y_train)\r\n",
        "predict = regression.predict(X_test)"
      ],
      "execution_count": 85,
      "outputs": []
    },
    {
      "cell_type": "code",
      "metadata": {
        "id": "z0Oo2Bl6vp0P"
      },
      "source": [
        "from sklearn import linear_model\r\n",
        "regr = linear_model.LinearRegression()\r\n",
        "\r\n",
        "regr.fit(X_train, y_train)\r\n",
        "\r\n",
        "y_pred = regr.predict(X_test)"
      ],
      "execution_count": 86,
      "outputs": []
    },
    {
      "cell_type": "code",
      "metadata": {
        "colab": {
          "base_uri": "https://localhost:8080/"
        },
        "id": "7JJFT_jCvNII",
        "outputId": "5ee62ee9-94e8-46ba-80d3-804a8348ec13"
      },
      "source": [
        "from sklearn.metrics import mean_squared_error, r2_score\r\n",
        "\r\n",
        "print('Mean squared error of my model: %.2f'\r\n",
        "      % mean_squared_error(y_test, predict))\r\n",
        "print('Mean squared error of sklearn model: %.2f'\r\n",
        "      % mean_squared_error(y_test, y_pred))\r\n",
        "# The coefficient of determination: 1 is perfect prediction\r\n",
        "print('Coefficient of determination my model: %.2f'\r\n",
        "      % r2_score(y_test, predict))\r\n",
        "print('Coefficient of determination sklearn model: %.2f'\r\n",
        "      % r2_score(y_test, y_pred))"
      ],
      "execution_count": 87,
      "outputs": [
        {
          "output_type": "stream",
          "text": [
            "Mean squared error of my model: 25.94\n",
            "Mean squared error of sklearn model: 25.03\n",
            "Coefficient of determination my model: 0.91\n",
            "Coefficient of determination sklearn model: 0.91\n"
          ],
          "name": "stdout"
        }
      ]
    },
    {
      "cell_type": "code",
      "metadata": {
        "id": "d9nTIxApwHJH"
      },
      "source": [
        ""
      ],
      "execution_count": null,
      "outputs": []
    }
  ]
}
