{
  "nbformat": 4,
  "nbformat_minor": 0,
  "metadata": {
    "colab": {
      "name": "KNN_from_scratch.ipynb",
      "provenance": [],
      "authorship_tag": "ABX9TyO3G3S8M93/Ycni6p3ByOx0"
    },
    "kernelspec": {
      "name": "python3",
      "display_name": "Python 3"
    }
  },
  "cells": [
    {
      "cell_type": "code",
      "metadata": {
        "id": "xTVwyECV7N4-"
      },
      "source": [
        "import numpy as np\r\n",
        "import pandas as pd\r\n",
        "from sklearn.model_selection import train_test_split     \r\n",
        "from sklearn.neighbors import KNeighborsClassifier\r\n",
        "from scipy.stats import mode "
      ],
      "execution_count": 3,
      "outputs": []
    },
    {
      "cell_type": "code",
      "metadata": {
        "id": "Ry8rZmag7-7u"
      },
      "source": [
        "df = pd.read_csv('diabetes.csv')"
      ],
      "execution_count": 6,
      "outputs": []
    },
    {
      "cell_type": "code",
      "metadata": {
        "colab": {
          "base_uri": "https://localhost:8080/",
          "height": 206
        },
        "id": "alY6SDi-8xdU",
        "outputId": "06a1a94f-03b3-4eee-9d31-2f5608705150"
      },
      "source": [
        "df.head()"
      ],
      "execution_count": 7,
      "outputs": [
        {
          "output_type": "execute_result",
          "data": {
            "text/html": [
              "<div>\n",
              "<style scoped>\n",
              "    .dataframe tbody tr th:only-of-type {\n",
              "        vertical-align: middle;\n",
              "    }\n",
              "\n",
              "    .dataframe tbody tr th {\n",
              "        vertical-align: top;\n",
              "    }\n",
              "\n",
              "    .dataframe thead th {\n",
              "        text-align: right;\n",
              "    }\n",
              "</style>\n",
              "<table border=\"1\" class=\"dataframe\">\n",
              "  <thead>\n",
              "    <tr style=\"text-align: right;\">\n",
              "      <th></th>\n",
              "      <th>Pregnancies</th>\n",
              "      <th>Glucose</th>\n",
              "      <th>BloodPressure</th>\n",
              "      <th>SkinThickness</th>\n",
              "      <th>Insulin</th>\n",
              "      <th>BMI</th>\n",
              "      <th>DiabetesPedigreeFunction</th>\n",
              "      <th>Age</th>\n",
              "      <th>Outcome</th>\n",
              "    </tr>\n",
              "  </thead>\n",
              "  <tbody>\n",
              "    <tr>\n",
              "      <th>0</th>\n",
              "      <td>6</td>\n",
              "      <td>148</td>\n",
              "      <td>72</td>\n",
              "      <td>35</td>\n",
              "      <td>0</td>\n",
              "      <td>33.6</td>\n",
              "      <td>0.627</td>\n",
              "      <td>50</td>\n",
              "      <td>1</td>\n",
              "    </tr>\n",
              "    <tr>\n",
              "      <th>1</th>\n",
              "      <td>1</td>\n",
              "      <td>85</td>\n",
              "      <td>66</td>\n",
              "      <td>29</td>\n",
              "      <td>0</td>\n",
              "      <td>26.6</td>\n",
              "      <td>0.351</td>\n",
              "      <td>31</td>\n",
              "      <td>0</td>\n",
              "    </tr>\n",
              "    <tr>\n",
              "      <th>2</th>\n",
              "      <td>8</td>\n",
              "      <td>183</td>\n",
              "      <td>64</td>\n",
              "      <td>0</td>\n",
              "      <td>0</td>\n",
              "      <td>23.3</td>\n",
              "      <td>0.672</td>\n",
              "      <td>32</td>\n",
              "      <td>1</td>\n",
              "    </tr>\n",
              "    <tr>\n",
              "      <th>3</th>\n",
              "      <td>1</td>\n",
              "      <td>89</td>\n",
              "      <td>66</td>\n",
              "      <td>23</td>\n",
              "      <td>94</td>\n",
              "      <td>28.1</td>\n",
              "      <td>0.167</td>\n",
              "      <td>21</td>\n",
              "      <td>0</td>\n",
              "    </tr>\n",
              "    <tr>\n",
              "      <th>4</th>\n",
              "      <td>0</td>\n",
              "      <td>137</td>\n",
              "      <td>40</td>\n",
              "      <td>35</td>\n",
              "      <td>168</td>\n",
              "      <td>43.1</td>\n",
              "      <td>2.288</td>\n",
              "      <td>33</td>\n",
              "      <td>1</td>\n",
              "    </tr>\n",
              "  </tbody>\n",
              "</table>\n",
              "</div>"
            ],
            "text/plain": [
              "   Pregnancies  Glucose  BloodPressure  ...  DiabetesPedigreeFunction  Age  Outcome\n",
              "0            6      148             72  ...                     0.627   50        1\n",
              "1            1       85             66  ...                     0.351   31        0\n",
              "2            8      183             64  ...                     0.672   32        1\n",
              "3            1       89             66  ...                     0.167   21        0\n",
              "4            0      137             40  ...                     2.288   33        1\n",
              "\n",
              "[5 rows x 9 columns]"
            ]
          },
          "metadata": {
            "tags": []
          },
          "execution_count": 7
        }
      ]
    },
    {
      "cell_type": "code",
      "metadata": {
        "id": "6bDpA5hb8z2s"
      },
      "source": [
        "X = df.iloc[:,:-1].values\r\n",
        "y = df.iloc[:,-1:].values"
      ],
      "execution_count": 8,
      "outputs": []
    },
    {
      "cell_type": "code",
      "metadata": {
        "id": "JCswwed-W_cd"
      },
      "source": [
        "X_train, X_test, y_train, y_test = train_test_split(X, y, test_size = .20) "
      ],
      "execution_count": 92,
      "outputs": []
    },
    {
      "cell_type": "code",
      "metadata": {
        "id": "S-EYRzUjQAEQ"
      },
      "source": [
        "class KNN():   \r\n",
        "    def __init__(self, k):\r\n",
        "        self.k = k\r\n",
        "        self.eps = 1e-8\r\n",
        "\r\n",
        "    def fit(self, X_train, y_train):\r\n",
        "        self.X_train = X_train\r\n",
        "        self.y_train = y_train\r\n",
        "\r\n",
        "    def predict(self, X_test):\r\n",
        "        distances = self.compute_distance(X_test)\r\n",
        "\r\n",
        "        return self.predict_labels(distances)\r\n",
        "\r\n",
        "    def compute_distance(self, X_test):\r\n",
        "        num_test = X_test.shape[0]\r\n",
        "        num_train = self.X_train.shape[0]\r\n",
        "        distances = np.zeros((num_test, num_train))\r\n",
        "\r\n",
        "        for i in range(num_test):\r\n",
        "            # (Taking sqrt is not necessary: min distance won't change since sqrt is monotone)\r\n",
        "            distances[i, :] = np.sqrt(\r\n",
        "                self.eps + np.sum((self.X_train - X_test[i, :]) ** 2, axis=1)\r\n",
        "            )\r\n",
        "\r\n",
        "        return distances\r\n",
        "\r\n",
        "    def predict_labels(self, distances):\r\n",
        "        num_test = distances.shape[0]\r\n",
        "        y_pred = np.zeros(num_test)\r\n",
        "\r\n",
        "        for i in range(num_test):\r\n",
        "            y_indices = np.argsort(distances[i, :])\r\n",
        "            neighbors = self.y_train[y_indices[: self.k]].astype(int)\r\n",
        "            y_pred[i] = mode(neighbors)[0][0]\r\n",
        "\r\n",
        "        return y_pred"
      ],
      "execution_count": 93,
      "outputs": []
    },
    {
      "cell_type": "code",
      "metadata": {
        "id": "Qos8Mv_cMB5x"
      },
      "source": [
        "model = KNN(k = 3) \r\n",
        "model.fit(X_train, y_train) "
      ],
      "execution_count": 94,
      "outputs": []
    },
    {
      "cell_type": "code",
      "metadata": {
        "id": "q92B9X4fMLUO"
      },
      "source": [
        "y_pred = model.predict(X_test) "
      ],
      "execution_count": 95,
      "outputs": []
    },
    {
      "cell_type": "code",
      "metadata": {
        "colab": {
          "base_uri": "https://localhost:8080/"
        },
        "id": "5pbdht_OJz_I",
        "outputId": "e6268c49-8e07-4a82-d007-c9d1f1389798"
      },
      "source": [
        "correctly_classified = 0\r\n",
        "count = 0 \r\n",
        "for count in range(np.size(y_pred)):   \r\n",
        "    if y_test[count] == y_pred[count]:  \r\n",
        "      correctly_classified = correctly_classified + 1\r\n",
        "    count = count + 1\r\n",
        "          \r\n",
        "print( \"Accuracy on test set by custom model       :  \", (correctly_classified/count)*100)"
      ],
      "execution_count": 96,
      "outputs": [
        {
          "output_type": "stream",
          "text": [
            "Accuracy on test set by custom model       :   86.36363636363636\n"
          ],
          "name": "stdout"
        }
      ]
    },
    {
      "cell_type": "code",
      "metadata": {
        "colab": {
          "base_uri": "https://localhost:8080/"
        },
        "id": "lQEXd9vTVJYg",
        "outputId": "4d584363-98c7-4e02-bd5c-82d75e2b765f"
      },
      "source": [
        "model1 = KNeighborsClassifier( n_neighbors = 3 ) \r\n",
        "      \r\n",
        "model1.fit(X_train, y_train) "
      ],
      "execution_count": 97,
      "outputs": [
        {
          "output_type": "stream",
          "text": [
            "/usr/local/lib/python3.6/dist-packages/ipykernel_launcher.py:3: DataConversionWarning: A column-vector y was passed when a 1d array was expected. Please change the shape of y to (n_samples, ), for example using ravel().\n",
            "  This is separate from the ipykernel package so we can avoid doing imports until\n"
          ],
          "name": "stderr"
        },
        {
          "output_type": "execute_result",
          "data": {
            "text/plain": [
              "KNeighborsClassifier(algorithm='auto', leaf_size=30, metric='minkowski',\n",
              "                     metric_params=None, n_jobs=None, n_neighbors=3, p=2,\n",
              "                     weights='uniform')"
            ]
          },
          "metadata": {
            "tags": []
          },
          "execution_count": 97
        }
      ]
    },
    {
      "cell_type": "code",
      "metadata": {
        "id": "X1p3-z3UWHa5"
      },
      "source": [
        "y_pred1 = model1.predict(X_test)"
      ],
      "execution_count": 98,
      "outputs": []
    },
    {
      "cell_type": "code",
      "metadata": {
        "colab": {
          "base_uri": "https://localhost:8080/"
        },
        "id": "6VE7COQ6WPZp",
        "outputId": "8c3cf801-56d4-4674-f2b5-6fd2332b2d00"
      },
      "source": [
        "correctly_classified = 0\r\n",
        "count = 0 \r\n",
        "for count in range(np.size(y_pred1)):   \r\n",
        "    if y_test[count] == y_pred1[count]:  \r\n",
        "      correctly_classified = correctly_classified + 1\r\n",
        "    count = count + 1\r\n",
        "          \r\n",
        "print( \"Accuracy on test set by sklearn model       :  \", (correctly_classified/count)*100)"
      ],
      "execution_count": 99,
      "outputs": [
        {
          "output_type": "stream",
          "text": [
            "Accuracy on test set by sklearn model       :   86.36363636363636\n"
          ],
          "name": "stdout"
        }
      ]
    },
    {
      "cell_type": "code",
      "metadata": {
        "id": "S6UO3kH8eav0"
      },
      "source": [
        ""
      ],
      "execution_count": null,
      "outputs": []
    }
  ]
}
