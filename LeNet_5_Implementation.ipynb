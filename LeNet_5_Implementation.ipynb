{
  "nbformat": 4,
  "nbformat_minor": 0,
  "metadata": {
    "colab": {
      "name": "LeNet-5 Implementation.ipynb",
      "provenance": [],
      "collapsed_sections": [],
      "authorship_tag": "ABX9TyND+48AJoq8NuGTVTeXqQB6",
      "include_colab_link": true
    },
    "kernelspec": {
      "name": "python3",
      "display_name": "Python 3"
    },
    "accelerator": "GPU"
  },
  "cells": [
    {
      "cell_type": "markdown",
      "metadata": {
        "id": "view-in-github",
        "colab_type": "text"
      },
      "source": [
        "<a href=\"https://colab.research.google.com/github/IronmanBD/LeNet-5-Implementation/blob/main/LeNet_5_Implementation.ipynb\" target=\"_parent\"><img src=\"https://colab.research.google.com/assets/colab-badge.svg\" alt=\"Open In Colab\"/></a>"
      ]
    },
    {
      "cell_type": "code",
      "metadata": {
        "id": "29ujiE-gH0J4"
      },
      "source": [
        "import torch\r\n",
        "import torchvision\r\n",
        "import torch.nn as nn\r\n",
        "import torch.nn.functional as F\r\n",
        "import torch.optim as optim\r\n",
        "import torchvision.transforms as transforms\r\n",
        "from torchvision import datasets\r\n",
        "\r\n",
        "import matplotlib.pyplot as plt\r\n",
        "%matplotlib inline\r\n",
        "import numpy as np"
      ],
      "execution_count": 23,
      "outputs": []
    },
    {
      "cell_type": "code",
      "metadata": {
        "id": "KacnJYLtIXPz"
      },
      "source": [
        "transform = transforms.ToTensor()"
      ],
      "execution_count": 24,
      "outputs": []
    },
    {
      "cell_type": "code",
      "metadata": {
        "id": "loXSQYYhIejX"
      },
      "source": [
        "batch_size= 16\r\n",
        "\r\n",
        "trainset = datasets.MNIST(root='./data', train=True,\r\n",
        "                                     download=True, transform = transform)\r\n",
        "trainloader = torch.utils.data.DataLoader(trainset,\r\n",
        "                                          batch_size=batch_size,\r\n",
        "                                          shuffle = True,\r\n",
        "                                          num_workers=2\r\n",
        "                                         )\r\n",
        "\r\n",
        "testset = datasets.MNIST(root='./data', train=False,\r\n",
        "                                    download = True, transform=transform)\r\n",
        "testloader = torch.utils.data.DataLoader(testset, \r\n",
        "                                         batch_size=batch_size,\r\n",
        "                                         shuffle=False, \r\n",
        "                                         num_workers=2\r\n",
        "                                        )"
      ],
      "execution_count": 25,
      "outputs": []
    },
    {
      "cell_type": "code",
      "metadata": {
        "colab": {
          "base_uri": "https://localhost:8080/",
          "height": 268
        },
        "id": "1B_YqbiDJB8n",
        "outputId": "6cdc0d53-05d4-4ba5-ab4e-73631d6a136d"
      },
      "source": [
        "import matplotlib.pyplot as plt\r\n",
        "%matplotlib inline\r\n",
        "    \r\n",
        "# obtain one batch of training images\r\n",
        "dataiter = iter(trainloader)\r\n",
        "images, labels = dataiter.next()\r\n",
        "images = images.numpy()\r\n",
        "\r\n",
        "# plot the images in the batch, along with the corresponding labels\r\n",
        "fig = plt.figure(figsize=(25, 4))\r\n",
        "for idx in np.arange(10):\r\n",
        "    ax = fig.add_subplot(2, 10/2, idx+1, xticks=[], yticks=[])\r\n",
        "    ax.imshow(np.squeeze(images[idx]), cmap='gray')\r\n",
        "    # print out the correct label for each image\r\n",
        "    # .item() gets the value contained in a Tensor\r\n",
        "    ax.set_title(str(labels[idx].item()))"
      ],
      "execution_count": 26,
      "outputs": [
        {
          "output_type": "display_data",
          "data": {
            "image/png": "[encoded data removed]",
            "text/plain": [
              "<Figure size 1800x288 with 10 Axes>"
            ]
          },
          "metadata": {
            "tags": []
          }
        }
      ]
    },
    {
      "cell_type": "code",
      "metadata": {
        "id": "7on5w9hZL_5O"
      },
      "source": [
        "class LeNet(nn.Module):\r\n",
        "    def __init__(self):\r\n",
        "        super(LeNet, self).__init__()\r\n",
        "        self.conv1 = nn.Conv2d(1, 6, 5)\r\n",
        "        self.pool1=nn.AvgPool2d(2,2)\r\n",
        "        self.conv2 = nn.Conv2d(6, 16, 5)\r\n",
        "        self.pool2=nn.AvgPool2d(2,2)\r\n",
        "        self.fc1 = nn.Linear(16*4*4, 120)\r\n",
        "        self.fc2 = nn.Linear(120, 84)\r\n",
        "        self.fc3 = nn.Linear(84, 10)\r\n",
        "\r\n",
        "    def forward(self,x):\r\n",
        "        x = F.relu(self.conv1(x))\r\n",
        "        x = self.pool1(x)\r\n",
        "        x = F.relu(self.conv2(x))\r\n",
        "        x = self.pool2(x)\r\n",
        "        x = x.view(x.shape[0],-1)\r\n",
        "        x = F.relu(self.fc1(x))\r\n",
        "        x = F.relu(self.fc2(x))\r\n",
        "        x = self.fc3(x)\r\n",
        "        return x"
      ],
      "execution_count": 27,
      "outputs": []
    },
    {
      "cell_type": "code",
      "metadata": {
        "colab": {
          "base_uri": "https://localhost:8080/"
        },
        "id": "fuPQRmtiWgqM",
        "outputId": "2b811bed-6612-4c08-c5db-9832c330280f"
      },
      "source": [
        "model = LeNet()\r\n",
        "print(model)"
      ],
      "execution_count": 28,
      "outputs": [
        {
          "output_type": "stream",
          "text": [
            "LeNet(\n",
            "  (conv1): Conv2d(1, 6, kernel_size=(5, 5), stride=(1, 1))\n",
            "  (pool1): AvgPool2d(kernel_size=2, stride=2, padding=0)\n",
            "  (conv2): Conv2d(6, 16, kernel_size=(5, 5), stride=(1, 1))\n",
            "  (pool2): AvgPool2d(kernel_size=2, stride=2, padding=0)\n",
            "  (fc1): Linear(in_features=256, out_features=120, bias=True)\n",
            "  (fc2): Linear(in_features=120, out_features=84, bias=True)\n",
            "  (fc3): Linear(in_features=84, out_features=10, bias=True)\n",
            ")\n"
          ],
          "name": "stdout"
        }
      ]
    },
    {
      "cell_type": "code",
      "metadata": {
        "colab": {
          "base_uri": "https://localhost:8080/"
        },
        "id": "f9EvgpdUX8fS",
        "outputId": "1e1cc69b-1f35-434c-ba33-ef8325e96b34"
      },
      "source": [
        "for name, param in model.named_parameters():\r\n",
        "    print(name, param.size(), param.requires_grad)"
      ],
      "execution_count": 29,
      "outputs": [
        {
          "output_type": "stream",
          "text": [
            "conv1.weight torch.Size([6, 1, 5, 5]) True\n",
            "conv1.bias torch.Size([6]) True\n",
            "conv2.weight torch.Size([16, 6, 5, 5]) True\n",
            "conv2.bias torch.Size([16]) True\n",
            "fc1.weight torch.Size([120, 256]) True\n",
            "fc1.bias torch.Size([120]) True\n",
            "fc2.weight torch.Size([84, 120]) True\n",
            "fc2.bias torch.Size([84]) True\n",
            "fc3.weight torch.Size([10, 84]) True\n",
            "fc3.bias torch.Size([10]) True\n"
          ],
          "name": "stdout"
        }
      ]
    },
    {
      "cell_type": "code",
      "metadata": {
        "id": "MCqRGX3GWq5v"
      },
      "source": [
        "criterion = nn.CrossEntropyLoss()\r\n",
        "optimizer = optim.SGD(model.parameters(), lr=0.001)"
      ],
      "execution_count": 30,
      "outputs": []
    },
    {
      "cell_type": "code",
      "metadata": {
        "id": "YCz8yXysYcoN"
      },
      "source": [
        "device = torch.device(\"cuda:0\" if torch.cuda.is_available() else \"cpu\")"
      ],
      "execution_count": 31,
      "outputs": []
    },
    {
      "cell_type": "code",
      "metadata": {
        "id": "5trVqWKLvMj8"
      },
      "source": [
        "if torch.cuda.is_available():\r\n",
        "    model.cuda()"
      ],
      "execution_count": 32,
      "outputs": []
    },
    {
      "cell_type": "code",
      "metadata": {
        "colab": {
          "base_uri": "https://localhost:8080/"
        },
        "id": "yiwrkzFbYDGn",
        "outputId": "7c750a7f-5825-4778-bac8-498d9618293b"
      },
      "source": [
        "# number of epochs to train the model\r\n",
        "n_epochs = 10  # suggest training between 20-50 epochs\r\n",
        "train_losses=[]\r\n",
        "for epoch in range(n_epochs):\r\n",
        "    train_loss = 0.0\r\n",
        "\r\n",
        "    for images, labels in trainloader:\r\n",
        "        # clear the gradients of all optimized variables\r\n",
        "        images=images.to(device)\r\n",
        "        labels=labels.to(device)\r\n",
        "        optimizer.zero_grad()\r\n",
        "        # forward pass: compute predicted outputs by passing inputs to the model\r\n",
        "        output = model.forward(images)\r\n",
        "        # calculate the loss\r\n",
        "        loss = criterion(output,labels)\r\n",
        "        # backward pass: compute gradient of the loss with respect to model parameters\r\n",
        "        loss.backward()\r\n",
        "        # perform a single optimization step (parameter update)\r\n",
        "        optimizer.step()\r\n",
        "        # update running training loss\r\n",
        "        train_loss += loss.item()*images.size(0)\r\n",
        "        \r\n",
        "    # print training statistics \r\n",
        "    # calculate average loss over an epoch\r\n",
        "    train_loss = train_loss/len(trainloader.dataset)\r\n",
        "    train_losses.append(train_loss)\r\n",
        "    if epoch%2==0: \r\n",
        "      print('Epoch: {} \\tTraining Loss: {:.6f}'.format(\r\n",
        "          epoch, \r\n",
        "          train_loss\r\n",
        "          ))"
      ],
      "execution_count": 35,
      "outputs": [
        {
          "output_type": "stream",
          "text": [
            "Epoch: 0 \tTraining Loss: 0.205221\n",
            "Epoch: 2 \tTraining Loss: 0.179059\n",
            "Epoch: 4 \tTraining Loss: 0.158787\n",
            "Epoch: 6 \tTraining Loss: 0.141228\n",
            "Epoch: 8 \tTraining Loss: 0.128769\n"
          ],
          "name": "stdout"
        }
      ]
    },
    {
      "cell_type": "code",
      "metadata": {
        "colab": {
          "base_uri": "https://localhost:8080/",
          "height": 297
        },
        "id": "3q7gLTwNFLAR",
        "outputId": "abaca958-2133-4d87-cfbe-7c3d035acad0"
      },
      "source": [
        "plt.plot(train_losses)\r\n",
        "plt.xlabel('epochs(k)')\r\n",
        "plt.ylabel('loss')"
      ],
      "execution_count": 46,
      "outputs": [
        {
          "output_type": "execute_result",
          "data": {
            "text/plain": [
              "Text(0, 0.5, 'loss')"
            ]
          },
          "metadata": {
            "tags": []
          },
          "execution_count": 46
        },
        {
          "output_type": "display_data",
          "data": {
            "image/png": "[encoded data removed]",
            "text/plain": [
              "<Figure size 432x288 with 1 Axes>"
            ]
          },
          "metadata": {
            "tags": [],
            "needs_background": "light"
          }
        }
      ]
    },
    {
      "cell_type": "code",
      "metadata": {
        "id": "Pi56ApK6YYtH",
        "colab": {
          "base_uri": "https://localhost:8080/"
        },
        "outputId": "e4ef0c26-83cd-4460-f6e4-05e6776f283c"
      },
      "source": [
        "test_loss = 0.0\r\n",
        "class_correct = list(0. for i in range(10))\r\n",
        "class_total = list(0. for i in range(10))\r\n",
        "\r\n",
        "model.eval() # prep model for *evaluation*\r\n",
        "\r\n",
        "for images, labels in testloader:\r\n",
        "    # forward pass: compute predicted outputs by passing inputs to the model\r\n",
        "    images=images.to(device)\r\n",
        "    labels=labels.to(device)\r\n",
        "    output = model(images)\r\n",
        "    # calculate the loss\r\n",
        "    loss = criterion(output, labels)\r\n",
        "    # update test loss \r\n",
        "    test_loss += loss.item()*images.size(0)\r\n",
        "    # convert output probabilities to predicted class\r\n",
        "    _, pred = torch.max(output, 1)\r\n",
        "    # compare predictions to true label\r\n",
        "    correct = np.squeeze(pred.eq(labels.data.view_as(pred)))\r\n",
        "    # calculate test accuracy for each object class\r\n",
        "    for i in range(batch_size):\r\n",
        "        label = labels.data[i]\r\n",
        "        class_correct[label] += correct[i].item()\r\n",
        "        class_total[label] += 1\r\n",
        "\r\n",
        "# calculate and print avg test loss\r\n",
        "test_loss = test_loss/len(testloader.dataset)\r\n",
        "print('Test Loss: {:.6f}\\n'.format(test_loss))\r\n",
        "\r\n",
        "for i in range(10):\r\n",
        "    if class_total[i] > 0:\r\n",
        "        print('Test Accuracy of %5s: %2d%% (%2d/%2d)' % (\r\n",
        "            str(i), 100 * class_correct[i] / class_total[i],\r\n",
        "            np.sum(class_correct[i]), np.sum(class_total[i])))\r\n",
        "    else:\r\n",
        "        print('Test Accuracy of %5s: N/A (no training examples)' % (classes[i]))\r\n",
        "\r\n",
        "print('\\nTest Accuracy (Overall): %2d%% (%2d/%2d)' % (\r\n",
        "    100. * np.sum(class_correct) / np.sum(class_total),\r\n",
        "    np.sum(class_correct), np.sum(class_total)))"
      ],
      "execution_count": 44,
      "outputs": [
        {
          "output_type": "stream",
          "text": [
            "Test Loss: 0.113086\n",
            "\n",
            "Test Accuracy of     0: 98% (970/980)\n",
            "Test Accuracy of     1: 99% (1125/1135)\n",
            "Test Accuracy of     2: 96% (993/1032)\n",
            "Test Accuracy of     3: 95% (964/1010)\n",
            "Test Accuracy of     4: 96% (943/982)\n",
            "Test Accuracy of     5: 97% (867/892)\n",
            "Test Accuracy of     6: 97% (932/958)\n",
            "Test Accuracy of     7: 96% (995/1028)\n",
            "Test Accuracy of     8: 94% (923/974)\n",
            "Test Accuracy of     9: 93% (948/1009)\n",
            "\n",
            "Test Accuracy (Overall): 96% (9660/10000)\n"
          ],
          "name": "stdout"
        }
      ]
    }
  ]
}