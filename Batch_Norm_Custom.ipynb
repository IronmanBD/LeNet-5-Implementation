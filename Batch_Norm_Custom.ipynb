{
  "nbformat": 4,
  "nbformat_minor": 0,
  "metadata": {
    "colab": {
      "name": "Untitled0.ipynb",
      "provenance": [],
      "authorship_tag": "ABX9TyNxugotFCP/3D2U4A//EKsF"
    },
    "kernelspec": {
      "name": "python3",
      "display_name": "Python 3"
    },
    "accelerator": "GPU",
    "widgets": {
      "application/vnd.jupyter.widget-state+json": {
        "b19cbfcd22ad4f26ab16f100ccf53c5d": {
          "model_module": "@jupyter-widgets/controls",
          "model_name": "HBoxModel",
          "state": {
            "_view_name": "HBoxView",
            "_dom_classes": [],
            "_model_name": "HBoxModel",
            "_view_module": "@jupyter-widgets/controls",
            "_model_module_version": "1.5.0",
            "_view_count": null,
            "_view_module_version": "1.5.0",
            "box_style": "",
            "layout": "IPY_MODEL_23e956e306a34867be991a013321ed49",
            "_model_module": "@jupyter-widgets/controls",
            "children": [
              "IPY_MODEL_c8b8a5d456bd4e708d4c8dcc208b8a3e",
              "IPY_MODEL_f8af79cd067546c6b817a5204874c6a8"
            ]
          }
        },
        "23e956e306a34867be991a013321ed49": {
          "model_module": "@jupyter-widgets/base",
          "model_name": "LayoutModel",
          "state": {
            "_view_name": "LayoutView",
            "grid_template_rows": null,
            "right": null,
            "justify_content": null,
            "_view_module": "@jupyter-widgets/base",
            "overflow": null,
            "_model_module_version": "1.2.0",
            "_view_count": null,
            "flex_flow": null,
            "width": null,
            "min_width": null,
            "border": null,
            "align_items": null,
            "bottom": null,
            "_model_module": "@jupyter-widgets/base",
            "top": null,
            "grid_column": null,
            "overflow_y": null,
            "overflow_x": null,
            "grid_auto_flow": null,
            "grid_area": null,
            "grid_template_columns": null,
            "flex": null,
            "_model_name": "LayoutModel",
            "justify_items": null,
            "grid_row": null,
            "max_height": null,
            "align_content": null,
            "visibility": null,
            "align_self": null,
            "height": null,
            "min_height": null,
            "padding": null,
            "grid_auto_rows": null,
            "grid_gap": null,
            "max_width": null,
            "order": null,
            "_view_module_version": "1.2.0",
            "grid_template_areas": null,
            "object_position": null,
            "object_fit": null,
            "grid_auto_columns": null,
            "margin": null,
            "display": null,
            "left": null
          }
        },
        "c8b8a5d456bd4e708d4c8dcc208b8a3e": {
          "model_module": "@jupyter-widgets/controls",
          "model_name": "FloatProgressModel",
          "state": {
            "_view_name": "ProgressView",
            "style": "IPY_MODEL_a9697f617f924497af715edafe4aa578",
            "_dom_classes": [],
            "description": "",
            "_model_name": "FloatProgressModel",
            "bar_style": "info",
            "max": 1,
            "_view_module": "@jupyter-widgets/controls",
            "_model_module_version": "1.5.0",
            "value": 1,
            "_view_count": null,
            "_view_module_version": "1.5.0",
            "orientation": "horizontal",
            "min": 0,
            "description_tooltip": null,
            "_model_module": "@jupyter-widgets/controls",
            "layout": "IPY_MODEL_eba5e3a2929745c5bcb1b0a98c7a74a0"
          }
        },
        "f8af79cd067546c6b817a5204874c6a8": {
          "model_module": "@jupyter-widgets/controls",
          "model_name": "HTMLModel",
          "state": {
            "_view_name": "HTMLView",
            "style": "IPY_MODEL_a070326e25f249deb6e0f163449747b7",
            "_dom_classes": [],
            "description": "",
            "_model_name": "HTMLModel",
            "placeholder": "​",
            "_view_module": "@jupyter-widgets/controls",
            "_model_module_version": "1.5.0",
            "value": " 170500096/? [00:20&lt;00:00, 32532792.60it/s]",
            "_view_count": null,
            "_view_module_version": "1.5.0",
            "description_tooltip": null,
            "_model_module": "@jupyter-widgets/controls",
            "layout": "IPY_MODEL_75215e2a89da45f4b6916496b354f56f"
          }
        },
        "a9697f617f924497af715edafe4aa578": {
          "model_module": "@jupyter-widgets/controls",
          "model_name": "ProgressStyleModel",
          "state": {
            "_view_name": "StyleView",
            "_model_name": "ProgressStyleModel",
            "description_width": "initial",
            "_view_module": "@jupyter-widgets/base",
            "_model_module_version": "1.5.0",
            "_view_count": null,
            "_view_module_version": "1.2.0",
            "bar_color": null,
            "_model_module": "@jupyter-widgets/controls"
          }
        },
        "eba5e3a2929745c5bcb1b0a98c7a74a0": {
          "model_module": "@jupyter-widgets/base",
          "model_name": "LayoutModel",
          "state": {
            "_view_name": "LayoutView",
            "grid_template_rows": null,
            "right": null,
            "justify_content": null,
            "_view_module": "@jupyter-widgets/base",
            "overflow": null,
            "_model_module_version": "1.2.0",
            "_view_count": null,
            "flex_flow": null,
            "width": null,
            "min_width": null,
            "border": null,
            "align_items": null,
            "bottom": null,
            "_model_module": "@jupyter-widgets/base",
            "top": null,
            "grid_column": null,
            "overflow_y": null,
            "overflow_x": null,
            "grid_auto_flow": null,
            "grid_area": null,
            "grid_template_columns": null,
            "flex": null,
            "_model_name": "LayoutModel",
            "justify_items": null,
            "grid_row": null,
            "max_height": null,
            "align_content": null,
            "visibility": null,
            "align_self": null,
            "height": null,
            "min_height": null,
            "padding": null,
            "grid_auto_rows": null,
            "grid_gap": null,
            "max_width": null,
            "order": null,
            "_view_module_version": "1.2.0",
            "grid_template_areas": null,
            "object_position": null,
            "object_fit": null,
            "grid_auto_columns": null,
            "margin": null,
            "display": null,
            "left": null
          }
        },
        "a070326e25f249deb6e0f163449747b7": {
          "model_module": "@jupyter-widgets/controls",
          "model_name": "DescriptionStyleModel",
          "state": {
            "_view_name": "StyleView",
            "_model_name": "DescriptionStyleModel",
            "description_width": "",
            "_view_module": "@jupyter-widgets/base",
            "_model_module_version": "1.5.0",
            "_view_count": null,
            "_view_module_version": "1.2.0",
            "_model_module": "@jupyter-widgets/controls"
          }
        },
        "75215e2a89da45f4b6916496b354f56f": {
          "model_module": "@jupyter-widgets/base",
          "model_name": "LayoutModel",
          "state": {
            "_view_name": "LayoutView",
            "grid_template_rows": null,
            "right": null,
            "justify_content": null,
            "_view_module": "@jupyter-widgets/base",
            "overflow": null,
            "_model_module_version": "1.2.0",
            "_view_count": null,
            "flex_flow": null,
            "width": null,
            "min_width": null,
            "border": null,
            "align_items": null,
            "bottom": null,
            "_model_module": "@jupyter-widgets/base",
            "top": null,
            "grid_column": null,
            "overflow_y": null,
            "overflow_x": null,
            "grid_auto_flow": null,
            "grid_area": null,
            "grid_template_columns": null,
            "flex": null,
            "_model_name": "LayoutModel",
            "justify_items": null,
            "grid_row": null,
            "max_height": null,
            "align_content": null,
            "visibility": null,
            "align_self": null,
            "height": null,
            "min_height": null,
            "padding": null,
            "grid_auto_rows": null,
            "grid_gap": null,
            "max_width": null,
            "order": null,
            "_view_module_version": "1.2.0",
            "grid_template_areas": null,
            "object_position": null,
            "object_fit": null,
            "grid_auto_columns": null,
            "margin": null,
            "display": null,
            "left": null
          }
        }
      }
    }
  },
  "cells": [
    {
      "cell_type": "code",
      "metadata": {
        "id": "saOWqLLY1ngG"
      },
      "source": [
        "import torch\r\n",
        "import torchvision\r\n",
        "import torch.nn as nn\r\n",
        "import torch.nn.functional as F\r\n",
        "import torch.optim as optim\r\n",
        "import torchvision.transforms as transforms"
      ],
      "execution_count": 2,
      "outputs": []
    },
    {
      "cell_type": "code",
      "metadata": {
        "colab": {
          "base_uri": "https://localhost:8080/",
          "height": 104,
          "referenced_widgets": [
            "b19cbfcd22ad4f26ab16f100ccf53c5d",
            "23e956e306a34867be991a013321ed49",
            "c8b8a5d456bd4e708d4c8dcc208b8a3e",
            "f8af79cd067546c6b817a5204874c6a8",
            "a9697f617f924497af715edafe4aa578",
            "eba5e3a2929745c5bcb1b0a98c7a74a0",
            "a070326e25f249deb6e0f163449747b7",
            "75215e2a89da45f4b6916496b354f56f"
          ]
        },
        "id": "QlM03FTF4kpl",
        "outputId": "35017237-3a0d-45a3-b7e7-c94b6b7ada31"
      },
      "source": [
        "transform = transforms.Compose(\r\n",
        "    [ transforms.ToTensor(),\r\n",
        "      transforms.Normalize((0.5,0.5,0.5),(0.5,0.5,0.5))\r\n",
        "    ])\r\n",
        "\r\n",
        "batch_size = 64\r\n",
        "\r\n",
        "trainset = torchvision.datasets.CIFAR10(root='./data', train=True,\r\n",
        "                                        download=True, transform=transform)\r\n",
        "trainloader = torch.utils.data.DataLoader(trainset, \r\n",
        "                                          batch_size=batch_size,\r\n",
        "                                          shuffle=True,\r\n",
        "                                          num_workers=2\r\n",
        "                                         )\r\n",
        "\r\n",
        "testset = torchvision.datasets.CIFAR10(root='./data', train=False,\r\n",
        "                                       download=True, transform=transform)\r\n",
        "testloader = torch.utils.data.DataLoader(testset, \r\n",
        "                                         batch_size=batch_size,\r\n",
        "                                         shuffle=False, \r\n",
        "                                         num_workers=2\r\n",
        "                                        )\r\n",
        "\r\n",
        "classes = ['plane', 'car', 'bird', 'cat',\r\n",
        "           'deer', 'dog', 'frog', 'horse', 'ship', 'truck']"
      ],
      "execution_count": 3,
      "outputs": [
        {
          "output_type": "stream",
          "text": [
            "Downloading https://www.cs.toronto.edu/~kriz/cifar-10-python.tar.gz to ./data/cifar-10-python.tar.gz\n"
          ],
          "name": "stdout"
        },
        {
          "output_type": "display_data",
          "data": {
            "application/vnd.jupyter.widget-view+json": {
              "model_id": "b19cbfcd22ad4f26ab16f100ccf53c5d",
              "version_minor": 0,
              "version_major": 2
            },
            "text/plain": [
              "HBox(children=(FloatProgress(value=1.0, bar_style='info', max=1.0), HTML(value='')))"
            ]
          },
          "metadata": {
            "tags": []
          }
        },
        {
          "output_type": "stream",
          "text": [
            "Extracting ./data/cifar-10-python.tar.gz to ./data\n",
            "Files already downloaded and verified\n"
          ],
          "name": "stdout"
        }
      ]
    },
    {
      "cell_type": "code",
      "metadata": {
        "colab": {
          "base_uri": "https://localhost:8080/",
          "height": 635
        },
        "id": "fHQPrn8Q49DF",
        "outputId": "65777ca5-b72e-4517-8b5f-d497e889b055"
      },
      "source": [
        "import matplotlib.pyplot as plt\r\n",
        "import numpy as np\r\n",
        "dataiter = iter(trainloader)\r\n",
        "images, labels = dataiter.next()\r\n",
        "images = images.numpy()\r\n",
        "\r\n",
        "fig = plt.figure(figsize=(25, 4))\r\n",
        "for idx in np.arange(20):\r\n",
        "    ax = fig.add_subplot(2, 20/2, idx+1, xticks=[], yticks=[])\r\n",
        "    plt.imshow(np.transpose(images[idx], (1, 2, 0)))\r\n",
        "    ax.set_title(classes[labels[idx]])"
      ],
      "execution_count": 7,
      "outputs": [
        {
          "output_type": "stream",
          "text": [
            "Clipping input data to the valid range for imshow with RGB data ([0..1] for floats or [0..255] for integers).\n",
            "Clipping input data to the valid range for imshow with RGB data ([0..1] for floats or [0..255] for integers).\n",
            "Clipping input data to the valid range for imshow with RGB data ([0..1] for floats or [0..255] for integers).\n",
            "Clipping input data to the valid range for imshow with RGB data ([0..1] for floats or [0..255] for integers).\n",
            "Clipping input data to the valid range for imshow with RGB data ([0..1] for floats or [0..255] for integers).\n",
            "Clipping input data to the valid range for imshow with RGB data ([0..1] for floats or [0..255] for integers).\n",
            "Clipping input data to the valid range for imshow with RGB data ([0..1] for floats or [0..255] for integers).\n",
            "Clipping input data to the valid range for imshow with RGB data ([0..1] for floats or [0..255] for integers).\n",
            "Clipping input data to the valid range for imshow with RGB data ([0..1] for floats or [0..255] for integers).\n",
            "Clipping input data to the valid range for imshow with RGB data ([0..1] for floats or [0..255] for integers).\n",
            "Clipping input data to the valid range for imshow with RGB data ([0..1] for floats or [0..255] for integers).\n",
            "Clipping input data to the valid range for imshow with RGB data ([0..1] for floats or [0..255] for integers).\n",
            "Clipping input data to the valid range for imshow with RGB data ([0..1] for floats or [0..255] for integers).\n",
            "Clipping input data to the valid range for imshow with RGB data ([0..1] for floats or [0..255] for integers).\n",
            "Clipping input data to the valid range for imshow with RGB data ([0..1] for floats or [0..255] for integers).\n",
            "Clipping input data to the valid range for imshow with RGB data ([0..1] for floats or [0..255] for integers).\n",
            "Clipping input data to the valid range for imshow with RGB data ([0..1] for floats or [0..255] for integers).\n",
            "Clipping input data to the valid range for imshow with RGB data ([0..1] for floats or [0..255] for integers).\n",
            "Clipping input data to the valid range for imshow with RGB data ([0..1] for floats or [0..255] for integers).\n",
            "Clipping input data to the valid range for imshow with RGB data ([0..1] for floats or [0..255] for integers).\n"
          ],
          "name": "stderr"
        },
        {
          "output_type": "display_data",
          "data": {
            "image/png": "[encoded data removed]",
            "text/plain": [
              "<Figure size 1800x288 with 20 Axes>"
            ]
          },
          "metadata": {
            "tags": []
          }
        }
      ]
    },
    {
      "cell_type": "code",
      "metadata": {
        "id": "ld4qjY185zTz"
      },
      "source": [
        "class Custom_Batchnorm2d(nn.BatchNorm2d):\r\n",
        "  def __init__(self, num_features, eps=1e-05, momentum=0.1, affine=True, track_running_stats=True):\r\n",
        "    super(Custom_Batchnorm2d, self).__init__(num_features, eps=1e-05, momentum=0.1, affine=True, track_running_stats=True)\r\n",
        "\r\n",
        "  def forward(self, x):\r\n",
        "    self._check_input_dim(x)\r\n",
        "    momentum = self.momentum\r\n",
        "    if self.training:\r\n",
        "      mean = torch.mean(x, dim=(0,2,3))\r\n",
        "      var = torch.var(x, dim=(0, 2, 3), unbiased=False)\r\n",
        "      m = x.numel()/x.size(1)\r\n",
        "      \r\n",
        "      with torch.no_grad():\r\n",
        "        self.running_mean = momentum * mean + (1 - momentum) * self.running_mean\r\n",
        "        self.running_var = momentum * var * m / (m-1) + (1 - momentum) * self.running_var\r\n",
        "    else:\r\n",
        "      mean = self.running_mean\r\n",
        "      var = self.running_var\r\n",
        "\r\n",
        "    x =  (x - mean[None, :, None, None]) / (torch.sqrt(var[None, :, None, None] + self.eps))\r\n",
        "    if self.affine:\r\n",
        "      x = x * self.weight[None,:,None,None] + self.bias[None,:,None,None]\r\n",
        "    \r\n",
        "    return x"
      ],
      "execution_count": 103,
      "outputs": []
    },
    {
      "cell_type": "code",
      "metadata": {
        "colab": {
          "base_uri": "https://localhost:8080/"
        },
        "id": "1QePC1MWAhRl",
        "outputId": "467862bf-8aa9-422f-b483-b03530ab7d18"
      },
      "source": [
        "x = torch.randn(2,3,4,4) * 8 + 3\r\n",
        "my_bn = Custom_Batchnorm2d(3, affine=True)\r\n",
        "torch_bn = nn.BatchNorm2d(3, affine=True)\r\n",
        "out1 = my_bn(x)\r\n",
        "out2 = torch_bn(x)\r\n",
        "print('Max diff: ', (out1 - out2).abs().max().item())"
      ],
      "execution_count": 104,
      "outputs": [
        {
          "output_type": "stream",
          "text": [
            "Max diff:  4.76837158203125e-07\n"
          ],
          "name": "stdout"
        }
      ]
    },
    {
      "cell_type": "code",
      "metadata": {
        "id": "WXz2UChb_67s"
      },
      "source": [
        "class LeNet_custom_batch(nn.Module):\r\n",
        "    def __init__(self):\r\n",
        "        super(LeNet_custom_batch, self).__init__()\r\n",
        "        self.conv1 = nn.Conv2d(3, 6, 5)\r\n",
        "        self.batchnorm1=Custom_Batchnorm2d(6)\r\n",
        "        self.pool1=nn.AvgPool2d(2,2)\r\n",
        "        self.conv2 = nn.Conv2d(6, 16, 5)\r\n",
        "        self.batchnorm2=Custom_Batchnorm2d(16)\r\n",
        "        self.pool2=nn.AvgPool2d(2,2)\r\n",
        "        self.fc1 = nn.Linear(16*5*5, 120)\r\n",
        "        self.fc2 = nn.Linear(120, 84)\r\n",
        "        self.fc3 = nn.Linear(84, 10)\r\n",
        "\r\n",
        "    def forward(self,x):\r\n",
        "        x = F.relu(self.batchnorm1(self.conv1(x)))\r\n",
        "        x = self.pool1(x)\r\n",
        "        x = F.relu(self.batchnorm2(self.conv2(x)))\r\n",
        "        x = self.pool2(x)\r\n",
        "        x = x.view(x.shape[0],-1)\r\n",
        "        x = F.relu(self.fc1(x))\r\n",
        "        x = F.relu(self.fc2(x))\r\n",
        "        x = self.fc3(x)\r\n",
        "        return x"
      ],
      "execution_count": 105,
      "outputs": []
    },
    {
      "cell_type": "code",
      "metadata": {
        "colab": {
          "base_uri": "https://localhost:8080/"
        },
        "id": "AEuPT-o_DOac",
        "outputId": "0c209b31-d879-436f-bb27-fbdac8a4fb9b"
      },
      "source": [
        "model = LeNet_custom_batch()\r\n",
        "print(model)"
      ],
      "execution_count": 106,
      "outputs": [
        {
          "output_type": "stream",
          "text": [
            "LeNet_custom_batch(\n",
            "  (conv1): Conv2d(3, 6, kernel_size=(5, 5), stride=(1, 1))\n",
            "  (batchnorm1): Custom_Batchnorm2d(6, eps=1e-05, momentum=0.1, affine=True, track_running_stats=True)\n",
            "  (pool1): AvgPool2d(kernel_size=2, stride=2, padding=0)\n",
            "  (conv2): Conv2d(6, 16, kernel_size=(5, 5), stride=(1, 1))\n",
            "  (batchnorm2): Custom_Batchnorm2d(16, eps=1e-05, momentum=0.1, affine=True, track_running_stats=True)\n",
            "  (pool2): AvgPool2d(kernel_size=2, stride=2, padding=0)\n",
            "  (fc1): Linear(in_features=400, out_features=120, bias=True)\n",
            "  (fc2): Linear(in_features=120, out_features=84, bias=True)\n",
            "  (fc3): Linear(in_features=84, out_features=10, bias=True)\n",
            ")\n"
          ],
          "name": "stdout"
        }
      ]
    },
    {
      "cell_type": "code",
      "metadata": {
        "id": "pYL9Az7EDugk"
      },
      "source": [
        "criterion = nn.CrossEntropyLoss()\r\n",
        "optimizer = optim.Adam(model.parameters(), lr=0.001)"
      ],
      "execution_count": 116,
      "outputs": []
    },
    {
      "cell_type": "code",
      "metadata": {
        "colab": {
          "base_uri": "https://localhost:8080/"
        },
        "id": "wi_bw7CeNoZm",
        "outputId": "c0320a4d-adbf-4da9-bc4c-774a0437d7b4"
      },
      "source": [
        "model.to(device)"
      ],
      "execution_count": 117,
      "outputs": [
        {
          "output_type": "execute_result",
          "data": {
            "text/plain": [
              "LeNet_custom_batch(\n",
              "  (conv1): Conv2d(3, 6, kernel_size=(5, 5), stride=(1, 1))\n",
              "  (batchnorm1): Custom_Batchnorm2d(6, eps=1e-05, momentum=0.1, affine=True, track_running_stats=True)\n",
              "  (pool1): AvgPool2d(kernel_size=2, stride=2, padding=0)\n",
              "  (conv2): Conv2d(6, 16, kernel_size=(5, 5), stride=(1, 1))\n",
              "  (batchnorm2): Custom_Batchnorm2d(16, eps=1e-05, momentum=0.1, affine=True, track_running_stats=True)\n",
              "  (pool2): AvgPool2d(kernel_size=2, stride=2, padding=0)\n",
              "  (fc1): Linear(in_features=400, out_features=120, bias=True)\n",
              "  (fc2): Linear(in_features=120, out_features=84, bias=True)\n",
              "  (fc3): Linear(in_features=84, out_features=10, bias=True)\n",
              ")"
            ]
          },
          "metadata": {
            "tags": []
          },
          "execution_count": 117
        }
      ]
    },
    {
      "cell_type": "code",
      "metadata": {
        "colab": {
          "base_uri": "https://localhost:8080/"
        },
        "id": "Ej8vvBZMEJ5c",
        "outputId": "0cfa8923-47fa-4d9a-f097-9362757ee729"
      },
      "source": [
        "# number of epochs to train the model\r\n",
        "n_epochs = 10  # suggest training between 20-50 epochs\r\n",
        "train_losses=[]\r\n",
        "for epoch in range(n_epochs):\r\n",
        "    train_loss = 0.0\r\n",
        "\r\n",
        "    for images, labels in trainloader:\r\n",
        "        # clear the gradients of all optimized variables\r\n",
        "        images=images.to(device)\r\n",
        "        labels=labels.to(device)\r\n",
        "        optimizer.zero_grad()\r\n",
        "        # forward pass: compute predicted outputs by passing inputs to the model\r\n",
        "        output = model.forward(images)\r\n",
        "        # calculate the loss\r\n",
        "        loss = criterion(output,labels)\r\n",
        "        # backward pass: compute gradient of the loss with respect to model parameters\r\n",
        "        loss.backward()\r\n",
        "        # perform a single optimization step (parameter update)\r\n",
        "        optimizer.step()\r\n",
        "        # update running training loss\r\n",
        "        train_loss += loss.item()*images.size(0)\r\n",
        "        \r\n",
        "    # print training statistics \r\n",
        "    # calculate average loss over an epoch\r\n",
        "    train_loss = train_loss/len(trainloader.dataset)\r\n",
        "    train_losses.append(train_loss)\r\n",
        "     \r\n",
        "    print('Epoch: {} \\tTraining Loss: {:.6f}'.format(\r\n",
        "          epoch+1, \r\n",
        "          train_loss\r\n",
        "          ))"
      ],
      "execution_count": 118,
      "outputs": [
        {
          "output_type": "stream",
          "text": [
            "Epoch: 1 \tTraining Loss: 1.483748\n",
            "Epoch: 2 \tTraining Loss: 1.264234\n",
            "Epoch: 3 \tTraining Loss: 1.131928\n",
            "Epoch: 4 \tTraining Loss: 1.045437\n",
            "Epoch: 5 \tTraining Loss: 0.977101\n",
            "Epoch: 6 \tTraining Loss: 0.923107\n",
            "Epoch: 7 \tTraining Loss: 0.878291\n",
            "Epoch: 8 \tTraining Loss: 0.833870\n",
            "Epoch: 9 \tTraining Loss: 0.801249\n",
            "Epoch: 10 \tTraining Loss: 0.766701\n"
          ],
          "name": "stdout"
        }
      ]
    },
    {
      "cell_type": "code",
      "metadata": {
        "id": "jlPqTX5YDUOz"
      },
      "source": [
        "class LeNet(nn.Module):\r\n",
        "    def __init__(self):\r\n",
        "        super(LeNet, self).__init__()\r\n",
        "        self.conv1 = nn.Conv2d(3, 6, 5)\r\n",
        "        self.bn1= nn.BatchNorm2d(6)\r\n",
        "        self.pool1=nn.AvgPool2d(2,2)\r\n",
        "        self.conv2 = nn.Conv2d(6, 16, 5)\r\n",
        "        self.bn2= nn.BatchNorm2d(16)\r\n",
        "        self.pool2=nn.AvgPool2d(2,2)\r\n",
        "        self.fc1 = nn.Linear(16*5*5, 120)\r\n",
        "        self.fc2 = nn.Linear(120, 84)\r\n",
        "        self.fc3 = nn.Linear(84, 10)\r\n",
        "\r\n",
        "    def forward(self,x):\r\n",
        "        x = F.relu(self.bn1(self.conv1(x)))\r\n",
        "        x = self.pool1(x)\r\n",
        "        x = F.relu(self.bn2(self.conv2(x)))\r\n",
        "        x = self.pool2(x)\r\n",
        "        x = x.view(x.shape[0],-1)\r\n",
        "        x = F.relu(self.fc1(x))\r\n",
        "        x = F.relu(self.fc2(x))\r\n",
        "        x = self.fc3(x)\r\n",
        "        return x"
      ],
      "execution_count": 132,
      "outputs": []
    },
    {
      "cell_type": "code",
      "metadata": {
        "colab": {
          "base_uri": "https://localhost:8080/"
        },
        "id": "pxZYhCbgDpd0",
        "outputId": "3304d2f8-972e-42df-fe46-1a0274489079"
      },
      "source": [
        "model1 = LeNet()\r\n",
        "print(model1)"
      ],
      "execution_count": 133,
      "outputs": [
        {
          "output_type": "stream",
          "text": [
            "LeNet(\n",
            "  (conv1): Conv2d(3, 6, kernel_size=(5, 5), stride=(1, 1))\n",
            "  (bn1): BatchNorm2d(6, eps=1e-05, momentum=0.1, affine=True, track_running_stats=True)\n",
            "  (pool1): AvgPool2d(kernel_size=2, stride=2, padding=0)\n",
            "  (conv2): Conv2d(6, 16, kernel_size=(5, 5), stride=(1, 1))\n",
            "  (bn2): BatchNorm2d(16, eps=1e-05, momentum=0.1, affine=True, track_running_stats=True)\n",
            "  (pool2): AvgPool2d(kernel_size=2, stride=2, padding=0)\n",
            "  (fc1): Linear(in_features=400, out_features=120, bias=True)\n",
            "  (fc2): Linear(in_features=120, out_features=84, bias=True)\n",
            "  (fc3): Linear(in_features=84, out_features=10, bias=True)\n",
            ")\n"
          ],
          "name": "stdout"
        }
      ]
    },
    {
      "cell_type": "code",
      "metadata": {
        "colab": {
          "base_uri": "https://localhost:8080/"
        },
        "id": "IXL-lQChEDT2",
        "outputId": "061d254d-460a-4a66-fa76-201ecc796cce"
      },
      "source": [
        "model1.to(device)"
      ],
      "execution_count": 134,
      "outputs": [
        {
          "output_type": "execute_result",
          "data": {
            "text/plain": [
              "LeNet(\n",
              "  (conv1): Conv2d(3, 6, kernel_size=(5, 5), stride=(1, 1))\n",
              "  (bn1): BatchNorm2d(6, eps=1e-05, momentum=0.1, affine=True, track_running_stats=True)\n",
              "  (pool1): AvgPool2d(kernel_size=2, stride=2, padding=0)\n",
              "  (conv2): Conv2d(6, 16, kernel_size=(5, 5), stride=(1, 1))\n",
              "  (bn2): BatchNorm2d(16, eps=1e-05, momentum=0.1, affine=True, track_running_stats=True)\n",
              "  (pool2): AvgPool2d(kernel_size=2, stride=2, padding=0)\n",
              "  (fc1): Linear(in_features=400, out_features=120, bias=True)\n",
              "  (fc2): Linear(in_features=120, out_features=84, bias=True)\n",
              "  (fc3): Linear(in_features=84, out_features=10, bias=True)\n",
              ")"
            ]
          },
          "metadata": {
            "tags": []
          },
          "execution_count": 134
        }
      ]
    },
    {
      "cell_type": "code",
      "metadata": {
        "id": "O6n3GI0XRtfe"
      },
      "source": [
        "criterion = nn.CrossEntropyLoss()\r\n",
        "optimizer = optim.Adam(model1.parameters(), lr=0.001)"
      ],
      "execution_count": 135,
      "outputs": []
    },
    {
      "cell_type": "code",
      "metadata": {
        "colab": {
          "base_uri": "https://localhost:8080/"
        },
        "id": "_y3WrgAfEdY0",
        "outputId": "6629bda4-eb3b-4688-e9e3-9d74405aab05"
      },
      "source": [
        "# number of epochs to train the model\r\n",
        "n_epochs = 10  # suggest training between 20-50 epochs\r\n",
        "train_losses1=[]\r\n",
        "for epoch in range(n_epochs):\r\n",
        "    train_loss = 0.0\r\n",
        "\r\n",
        "    for images, labels in trainloader:\r\n",
        "        # clear the gradients of all optimized variables\r\n",
        "        images=images.to(device)\r\n",
        "        labels=labels.to(device)\r\n",
        "        optimizer.zero_grad()\r\n",
        "        # forward pass: compute predicted outputs by passing inputs to the model\r\n",
        "        output = model1.forward(images)\r\n",
        "        # calculate the loss\r\n",
        "        loss = criterion(output,labels)\r\n",
        "        # backward pass: compute gradient of the loss with respect to model parameters\r\n",
        "        loss.backward()\r\n",
        "        # perform a single optimization step (parameter update)\r\n",
        "        optimizer.step()\r\n",
        "        # update running training loss\r\n",
        "        train_loss += loss.item()*images.size(0)\r\n",
        "        \r\n",
        "    # print training statistics \r\n",
        "    # calculate average loss over an epoch\r\n",
        "    train_loss = train_loss/len(trainloader.dataset)\r\n",
        "    train_losses1.append(train_loss) \r\n",
        "    print('Epoch: {} \\tTraining Loss: {:.6f}'.format(\r\n",
        "          epoch+1, \r\n",
        "          train_loss\r\n",
        "          ))"
      ],
      "execution_count": 136,
      "outputs": [
        {
          "output_type": "stream",
          "text": [
            "Epoch: 1 \tTraining Loss: 1.509840\n",
            "Epoch: 2 \tTraining Loss: 1.246700\n",
            "Epoch: 3 \tTraining Loss: 1.131935\n",
            "Epoch: 4 \tTraining Loss: 1.057210\n",
            "Epoch: 5 \tTraining Loss: 0.999496\n",
            "Epoch: 6 \tTraining Loss: 0.953732\n",
            "Epoch: 7 \tTraining Loss: 0.906133\n",
            "Epoch: 8 \tTraining Loss: 0.869005\n",
            "Epoch: 9 \tTraining Loss: 0.831942\n",
            "Epoch: 10 \tTraining Loss: 0.800527\n"
          ],
          "name": "stdout"
        }
      ]
    },
    {
      "cell_type": "code",
      "metadata": {
        "colab": {
          "base_uri": "https://localhost:8080/",
          "height": 297
        },
        "id": "hE3bNUtqJb0U",
        "outputId": "2a2725fb-709f-43ba-c123-4348efbca2ba"
      },
      "source": [
        "plt.plot(train_losses, label='Custom')\r\n",
        "plt.plot(train_losses1, label='builtin')\r\n",
        "plt.legend()\r\n",
        "plt.xlabel(\"Epoch\")\r\n",
        "plt.ylabel(\"Loss\")"
      ],
      "execution_count": 144,
      "outputs": [
        {
          "output_type": "execute_result",
          "data": {
            "text/plain": [
              "Text(0, 0.5, 'Loss')"
            ]
          },
          "metadata": {
            "tags": []
          },
          "execution_count": 144
        },
        {
          "output_type": "display_data",
          "data": {
            "image/png": "[encoded data removed]",
            "text/plain": [
              "<Figure size 432x288 with 1 Axes>"
            ]
          },
          "metadata": {
            "tags": [],
            "needs_background": "light"
          }
        }
      ]
    },
    {
      "cell_type": "code",
      "metadata": {
        "colab": {
          "base_uri": "https://localhost:8080/"
        },
        "id": "9_hBtSU7KVJs",
        "outputId": "80dec77f-0eaa-4c02-b0e4-f4e53737e3fc"
      },
      "source": [
        "correct1, correct2 = 0, 0\r\n",
        "total = 0\r\n",
        "\r\n",
        "with torch.no_grad():\r\n",
        "  for data in testloader:\r\n",
        "    images, labels = data[0].to(device), data[1].to(device)\r\n",
        "    output1 = model(images)\r\n",
        "    output2 = model1(images)\r\n",
        "    \r\n",
        "    _, predicted = torch.max(output1.data, 1)\r\n",
        "    _, predicted2 = torch.max(output2.data, 1)\r\n",
        "    \r\n",
        "    total += labels.size(0)\r\n",
        "    \r\n",
        "    correct1 += (predicted == labels).sum().item()\r\n",
        "    correct2 += (predicted2 == labels).sum().item()\r\n",
        "    \r\n",
        "print(\"Accuracy of the network using my batch norm: %2.3f %%\" % (100 * correct1 / total))\r\n",
        "print(\"Accuracy of the network using pytorch's built-in batch norm: %2.3f %%\" % (100 * correct2 / total))\r\n",
        "print(\"Diff: %.3f\" % ((100 * correct1 / total) - (100 * correct2 / total)))"
      ],
      "execution_count": 140,
      "outputs": [
        {
          "output_type": "stream",
          "text": [
            "Accuracy of the network using my batch norm: 56.170 %\n",
            "Accuracy of the network using pytorch's built-in batch norm: 64.310 %\n",
            "Diff: -8.140\n"
          ],
          "name": "stdout"
        }
      ]
    },
    {
      "cell_type": "code",
      "metadata": {
        "id": "qExKp-MgTwlO"
      },
      "source": [
        ""
      ],
      "execution_count": null,
      "outputs": []
    }
  ]
}